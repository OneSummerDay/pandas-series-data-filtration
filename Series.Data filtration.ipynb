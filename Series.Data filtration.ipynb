{
 "cells": [
  {
   "cell_type": "code",
   "execution_count": 1,
   "id": "7a021217",
   "metadata": {},
   "outputs": [],
   "source": [
    "import pandas as pd"
   ]
  },
  {
   "cell_type": "code",
   "execution_count": 2,
   "id": "82a06e7a",
   "metadata": {},
   "outputs": [],
   "source": [
    "cities = pd.Series({'Dnipro': 100000, 'Kyiv': 200000, 'Berlin': 230000, 'Paris': 2800000}, index=['Kyiv', 'Dnipro', 'Milan', 'Ottava'])"
   ]
  },
  {
   "cell_type": "code",
   "execution_count": 3,
   "id": "e3239ce2",
   "metadata": {},
   "outputs": [
    {
     "data": {
      "text/plain": [
       "Kyiv      200000.0\n",
       "Dnipro    100000.0\n",
       "Milan          NaN\n",
       "Ottava         NaN\n",
       "dtype: float64"
      ]
     },
     "execution_count": 3,
     "metadata": {},
     "output_type": "execute_result"
    }
   ],
   "source": [
    "cities"
   ]
  },
  {
   "cell_type": "code",
   "execution_count": 4,
   "id": "25f05391",
   "metadata": {},
   "outputs": [
    {
     "data": {
      "text/plain": [
       "Kyiv      False\n",
       "Dnipro    False\n",
       "Milan      True\n",
       "Ottava     True\n",
       "dtype: bool"
      ]
     },
     "execution_count": 4,
     "metadata": {},
     "output_type": "execute_result"
    }
   ],
   "source": [
    "cities.isnull()"
   ]
  },
  {
   "cell_type": "code",
   "execution_count": 5,
   "id": "62afba94",
   "metadata": {},
   "outputs": [
    {
     "data": {
      "text/plain": [
       "Kyiv       True\n",
       "Dnipro     True\n",
       "Milan     False\n",
       "Ottava    False\n",
       "dtype: bool"
      ]
     },
     "execution_count": 5,
     "metadata": {},
     "output_type": "execute_result"
    }
   ],
   "source": [
    "cities.notna()"
   ]
  },
  {
   "cell_type": "code",
   "execution_count": 6,
   "id": "61403091",
   "metadata": {},
   "outputs": [
    {
     "data": {
      "text/plain": [
       "Kyiv      False\n",
       "Dnipro    False\n",
       "Milan     False\n",
       "Ottava    False\n",
       "dtype: bool"
      ]
     },
     "execution_count": 6,
     "metadata": {},
     "output_type": "execute_result"
    }
   ],
   "source": [
    "cities > 1000000"
   ]
  },
  {
   "cell_type": "code",
   "execution_count": 7,
   "id": "b1966857",
   "metadata": {},
   "outputs": [
    {
     "data": {
      "text/plain": [
       "Milan    NaN\n",
       "Ottava   NaN\n",
       "dtype: float64"
      ]
     },
     "execution_count": 7,
     "metadata": {},
     "output_type": "execute_result"
    }
   ],
   "source": [
    "cities[cities.isnull()]"
   ]
  },
  {
   "cell_type": "code",
   "execution_count": 8,
   "id": "be762653",
   "metadata": {},
   "outputs": [
    {
     "data": {
      "text/plain": [
       "Kyiv      200000.0\n",
       "Dnipro    100000.0\n",
       "dtype: float64"
      ]
     },
     "execution_count": 8,
     "metadata": {},
     "output_type": "execute_result"
    }
   ],
   "source": [
    " cities[ cities.notna() ]"
   ]
  },
  {
   "cell_type": "code",
   "execution_count": 9,
   "id": "6534c4a4",
   "metadata": {},
   "outputs": [
    {
     "data": {
      "text/plain": [
       "Kyiv    200000.0\n",
       "dtype: float64"
      ]
     },
     "execution_count": 9,
     "metadata": {},
     "output_type": "execute_result"
    }
   ],
   "source": [
    "cities[ cities > 100000 ]"
   ]
  },
  {
   "cell_type": "code",
   "execution_count": 11,
   "id": "783f2cf8",
   "metadata": {},
   "outputs": [
    {
     "data": {
      "text/plain": [
       "Series([], dtype: float64)"
      ]
     },
     "execution_count": 11,
     "metadata": {},
     "output_type": "execute_result"
    }
   ],
   "source": [
    "cities[ (cities > 100000) & (cities < 200000)]"
   ]
  },
  {
   "cell_type": "code",
   "execution_count": null,
   "id": "df7a0de4",
   "metadata": {},
   "outputs": [],
   "source": []
  }
 ],
 "metadata": {
  "kernelspec": {
   "display_name": "Python 3 (ipykernel)",
   "language": "python",
   "name": "python3"
  },
  "language_info": {
   "codemirror_mode": {
    "name": "ipython",
    "version": 3
   },
   "file_extension": ".py",
   "mimetype": "text/x-python",
   "name": "python",
   "nbconvert_exporter": "python",
   "pygments_lexer": "ipython3",
   "version": "3.11.4"
  }
 },
 "nbformat": 4,
 "nbformat_minor": 5
}
